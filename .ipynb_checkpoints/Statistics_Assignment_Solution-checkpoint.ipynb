{
 "cells": [
  {
   "cell_type": "code",
   "execution_count": 1,
   "id": "ed11bfc5",
   "metadata": {},
   "outputs": [],
   "source": [
    "import pandas as pd\n",
    "\n",
    "# load the dataset\n",
    "df = pd.read_csv('height-weight-data.csv')"
   ]
  },
  {
   "cell_type": "code",
   "execution_count": 2,
   "id": "c58512b4",
   "metadata": {},
   "outputs": [
    {
     "data": {
      "text/html": [
       "<div>\n",
       "<style scoped>\n",
       "    .dataframe tbody tr th:only-of-type {\n",
       "        vertical-align: middle;\n",
       "    }\n",
       "\n",
       "    .dataframe tbody tr th {\n",
       "        vertical-align: top;\n",
       "    }\n",
       "\n",
       "    .dataframe thead th {\n",
       "        text-align: right;\n",
       "    }\n",
       "</style>\n",
       "<table border=\"1\" class=\"dataframe\">\n",
       "  <thead>\n",
       "    <tr style=\"text-align: right;\">\n",
       "      <th></th>\n",
       "      <th>Height (Inches)</th>\n",
       "      <th>Weight (Pounds)</th>\n",
       "    </tr>\n",
       "  </thead>\n",
       "  <tbody>\n",
       "    <tr>\n",
       "      <th>0</th>\n",
       "      <td>64.00</td>\n",
       "      <td>130.073</td>\n",
       "    </tr>\n",
       "    <tr>\n",
       "      <th>1</th>\n",
       "      <td>71.52</td>\n",
       "      <td>136.490</td>\n",
       "    </tr>\n",
       "    <tr>\n",
       "      <th>2</th>\n",
       "      <td>69.40</td>\n",
       "      <td>153.030</td>\n",
       "    </tr>\n",
       "    <tr>\n",
       "      <th>3</th>\n",
       "      <td>68.22</td>\n",
       "      <td>142.340</td>\n",
       "    </tr>\n",
       "    <tr>\n",
       "      <th>4</th>\n",
       "      <td>67.79</td>\n",
       "      <td>144.300</td>\n",
       "    </tr>\n",
       "    <tr>\n",
       "      <th>5</th>\n",
       "      <td>68.70</td>\n",
       "      <td>123.300</td>\n",
       "    </tr>\n",
       "    <tr>\n",
       "      <th>6</th>\n",
       "      <td>69.80</td>\n",
       "      <td>141.490</td>\n",
       "    </tr>\n",
       "    <tr>\n",
       "      <th>7</th>\n",
       "      <td>70.01</td>\n",
       "      <td>136.460</td>\n",
       "    </tr>\n",
       "    <tr>\n",
       "      <th>8</th>\n",
       "      <td>67.90</td>\n",
       "      <td>112.370</td>\n",
       "    </tr>\n",
       "    <tr>\n",
       "      <th>9</th>\n",
       "      <td>66.78</td>\n",
       "      <td>120.670</td>\n",
       "    </tr>\n",
       "    <tr>\n",
       "      <th>10</th>\n",
       "      <td>66.49</td>\n",
       "      <td>127.450</td>\n",
       "    </tr>\n",
       "    <tr>\n",
       "      <th>11</th>\n",
       "      <td>67.62</td>\n",
       "      <td>114.140</td>\n",
       "    </tr>\n",
       "    <tr>\n",
       "      <th>12</th>\n",
       "      <td>68.30</td>\n",
       "      <td>125.610</td>\n",
       "    </tr>\n",
       "    <tr>\n",
       "      <th>13</th>\n",
       "      <td>67.12</td>\n",
       "      <td>122.460</td>\n",
       "    </tr>\n",
       "    <tr>\n",
       "      <th>14</th>\n",
       "      <td>68.28</td>\n",
       "      <td>116.090</td>\n",
       "    </tr>\n",
       "    <tr>\n",
       "      <th>15</th>\n",
       "      <td>71.09</td>\n",
       "      <td>140.000</td>\n",
       "    </tr>\n",
       "    <tr>\n",
       "      <th>16</th>\n",
       "      <td>66.46</td>\n",
       "      <td>129.500</td>\n",
       "    </tr>\n",
       "    <tr>\n",
       "      <th>17</th>\n",
       "      <td>68.65</td>\n",
       "      <td>142.970</td>\n",
       "    </tr>\n",
       "    <tr>\n",
       "      <th>18</th>\n",
       "      <td>71.23</td>\n",
       "      <td>137.900</td>\n",
       "    </tr>\n",
       "    <tr>\n",
       "      <th>19</th>\n",
       "      <td>67.13</td>\n",
       "      <td>124.040</td>\n",
       "    </tr>\n",
       "  </tbody>\n",
       "</table>\n",
       "</div>"
      ],
      "text/plain": [
       "    Height (Inches)  Weight (Pounds)\n",
       "0             64.00          130.073\n",
       "1             71.52          136.490\n",
       "2             69.40          153.030\n",
       "3             68.22          142.340\n",
       "4             67.79          144.300\n",
       "5             68.70          123.300\n",
       "6             69.80          141.490\n",
       "7             70.01          136.460\n",
       "8             67.90          112.370\n",
       "9             66.78          120.670\n",
       "10            66.49          127.450\n",
       "11            67.62          114.140\n",
       "12            68.30          125.610\n",
       "13            67.12          122.460\n",
       "14            68.28          116.090\n",
       "15            71.09          140.000\n",
       "16            66.46          129.500\n",
       "17            68.65          142.970\n",
       "18            71.23          137.900\n",
       "19            67.13          124.040"
      ]
     },
     "execution_count": 2,
     "metadata": {},
     "output_type": "execute_result"
    }
   ],
   "source": [
    "df"
   ]
  },
  {
   "cell_type": "markdown",
   "id": "4cce3f2f",
   "metadata": {},
   "source": [
    "## a) Write your height and weight and then compute the mean and median of Height and Weight."
   ]
  },
  {
   "cell_type": "code",
   "execution_count": 3,
   "id": "0ad2a8a5",
   "metadata": {},
   "outputs": [
    {
     "name": "stdout",
     "output_type": "stream",
     "text": [
      "64.0  + 71.52  + 69.4  + 68.22  + 67.79  + 68.7  + 69.8  + 70.01  + 67.9  + 66.78  + 66.49  + 67.62  + 68.3  + 67.12  + 68.28  + 71.09  + 66.46  + 68.65  + 71.23  + 67.13  + \n",
      "Sum of all height:  1366.49\n",
      "\n",
      "Height Mean =  1366.49 /20 =  68.32\n"
     ]
    }
   ],
   "source": [
    "# mean of height\n",
    "\n",
    "height_sum = 0\n",
    "for h in df['Height (Inches)']:\n",
    "    height_sum = height_sum + h\n",
    "    print(h,' + ',end='')\n",
    "\n",
    "height_mean = round(height_sum/20,2)\n",
    "print('\\nSum of all height: ',round(height_sum,2))\n",
    "print('\\nHeight Mean = ',round(height_sum,2),\"/20 = \",height_mean)"
   ]
  },
  {
   "cell_type": "code",
   "execution_count": 4,
   "id": "564a28ea",
   "metadata": {},
   "outputs": [
    {
     "name": "stdout",
     "output_type": "stream",
     "text": [
      "130.073  + 136.49  + 153.03  + 142.34  + 144.3  + 123.3  + 141.49  + 136.46  + 112.37  + 120.67  + 127.45  + 114.14  + 125.61  + 122.46  + 116.09  + 140.0  + 129.5  + 142.97  + 137.9  + 124.04  + \n",
      "\n",
      "Sum of all weight:  2620.68\n",
      "Weight Mean =  2620.68 /20 =  131.03\n"
     ]
    }
   ],
   "source": [
    "# mean of weight\n",
    "\n",
    "weight_sum = 0\n",
    "for w in df['Weight (Pounds)']:\n",
    "    weight_sum = weight_sum + w\n",
    "    print(w,' + ',end='')\n",
    "\n",
    "weight_mean = round(weight_sum/20,2)\n",
    "print('\\n\\nSum of all weight: ',round(weight_sum,2))\n",
    "print('Weight Mean = ',round(weight_sum,2),\"/20 = \",weight_mean)"
   ]
  },
  {
   "cell_type": "code",
   "execution_count": 5,
   "id": "48db6b0f",
   "metadata": {},
   "outputs": [
    {
     "name": "stdout",
     "output_type": "stream",
     "text": [
      "68.32450000000001\n",
      "131.03415\n"
     ]
    }
   ],
   "source": [
    "# cross check\n",
    "print(df['Height (Inches)'].mean())\n",
    "print(df['Weight (Pounds)'].mean())"
   ]
  },
  {
   "cell_type": "code",
   "execution_count": 6,
   "id": "5b5b142e",
   "metadata": {},
   "outputs": [
    {
     "name": "stdout",
     "output_type": "stream",
     "text": [
      "Median of Height:  68.25\n",
      "Median of Weight:  129.79\n"
     ]
    }
   ],
   "source": [
    "# median\n",
    "print('Median of Height: ',round(df['Height (Inches)'].median(),2))\n",
    "print('Median of Weight: ',round(df['Weight (Pounds)'].median(),2))"
   ]
  },
  {
   "cell_type": "markdown",
   "id": "eca7ddb4",
   "metadata": {},
   "source": [
    "## b) Compute the variance and standard deviation of Height and Weight. "
   ]
  },
  {
   "cell_type": "code",
   "execution_count": 7,
   "id": "27f2b633",
   "metadata": {},
   "outputs": [
    {
     "name": "stdout",
     "output_type": "stream",
     "text": [
      "variance of Height:  3.39\n",
      "variance of Weight:  127.29\n",
      "\n",
      "Standard deviation of Height:  1.8\n",
      "Standard deviation of Weight:  11.3\n"
     ]
    }
   ],
   "source": [
    "# variance\n",
    "\n",
    "print('variance of Height: ',round(df['Height (Inches)'].var(),2))\n",
    "print('variance of Weight: ',round(df['Weight (Pounds)'].var(),2))\n",
    "\n",
    "# standard deviation \n",
    "print('\\nStandard deviation of Height: ',round(df['Height (Inches)'].std(),1))\n",
    "print('Standard deviation of Weight: ',round(df['Weight (Pounds)'].std(),1))"
   ]
  },
  {
   "cell_type": "code",
   "execution_count": 10,
   "id": "90ac804e",
   "metadata": {},
   "outputs": [
    {
     "name": "stdout",
     "output_type": "stream",
     "text": [
      "standard deviation - Height\n",
      "\n",
      "1 .\n",
      "64.0 - 68.32 = -4.32\n",
      "( 64.0 - 68.32 )^2 =  18.66\n",
      "2 .\n",
      "71.52 - 68.32 = 3.2\n",
      "( 71.52 - 68.32 )^2 =  28.9\n",
      "3 .\n",
      "69.4 - 68.32 = 1.08\n",
      "( 69.4 - 68.32 )^2 =  30.07\n",
      "4 .\n",
      "68.22 - 68.32 = -0.1\n",
      "( 68.22 - 68.32 )^2 =  30.08\n",
      "5 .\n",
      "67.79 - 68.32 = -0.53\n",
      "( 67.79 - 68.32 )^2 =  30.36\n",
      "6 .\n",
      "68.7 - 68.32 = 0.38\n",
      "( 68.7 - 68.32 )^2 =  30.5\n",
      "7 .\n",
      "69.8 - 68.32 = 1.48\n",
      "( 69.8 - 68.32 )^2 =  32.69\n",
      "8 .\n",
      "70.01 - 68.32 = 1.69\n",
      "( 70.01 - 68.32 )^2 =  35.55\n",
      "9 .\n",
      "67.9 - 68.32 = -0.42\n",
      "( 67.9 - 68.32 )^2 =  35.73\n",
      "10 .\n",
      "66.78 - 68.32 = -1.54\n",
      "( 66.78 - 68.32 )^2 =  38.1\n",
      "11 .\n",
      "66.49 - 68.32 = -1.83\n",
      "( 66.49 - 68.32 )^2 =  41.45\n",
      "12 .\n",
      "67.62 - 68.32 = -0.7\n",
      "( 67.62 - 68.32 )^2 =  41.94\n",
      "13 .\n",
      "68.3 - 68.32 = -0.02\n",
      "( 68.3 - 68.32 )^2 =  41.94\n",
      "14 .\n",
      "67.12 - 68.32 = -1.2\n",
      "( 67.12 - 68.32 )^2 =  43.38\n",
      "15 .\n",
      "68.28 - 68.32 = -0.04\n",
      "( 68.28 - 68.32 )^2 =  43.38\n",
      "16 .\n",
      "71.09 - 68.32 = 2.77\n",
      "( 71.09 - 68.32 )^2 =  51.05\n",
      "17 .\n",
      "66.46 - 68.32 = -1.86\n",
      "( 66.46 - 68.32 )^2 =  54.51\n",
      "18 .\n",
      "68.65 - 68.32 = 0.33\n",
      "( 68.65 - 68.32 )^2 =  54.62\n",
      "19 .\n",
      "71.23 - 68.32 = 2.91\n",
      "( 71.23 - 68.32 )^2 =  63.09\n",
      "20 .\n",
      "67.13 - 68.32 = -1.19\n",
      "( 67.13 - 68.32 )^2 =  64.51\n",
      "\n",
      "standard deviation - Height\n",
      "\n",
      "\n",
      "Sum:  64.51\n",
      "sum/20 =  3.23 [ variance ]\n",
      "sqrt =  1.8 [ standard deviation ]\n"
     ]
    }
   ],
   "source": [
    "# standard deviation - Height\n",
    "# std = sqrt(mean(x)) , where x = abs(a - a.mean())**2 \n",
    "from math import *\n",
    "from statistics import mean\n",
    "print(\"standard deviation - Height\\n\")\n",
    "x = 0\n",
    "index = 1\n",
    "\n",
    "for h in df['Height (Inches)']:\n",
    "    x = x + abs(h - height_mean)**2\n",
    "    print(index,\".\")\n",
    "    print(h,'-',height_mean,'=',round(h - height_mean,2))\n",
    "    print('(',h,'-',height_mean,')^2 = ',round(x,2))\n",
    "    index = index+1\n",
    "    \n",
    "height_std = round(sqrt(x/20),2)\n",
    "print(\"\\nstandard deviation - Height\\n\")\n",
    "print('\\nSum: ',round(x,2))\n",
    "print('sum/20 = ',round(round(x,2)/20,2),'[','variance',']')\n",
    "print('sqrt = ',height_std,'[','standard deviation',']')"
   ]
  },
  {
   "cell_type": "code",
   "execution_count": 11,
   "id": "0de4a083",
   "metadata": {},
   "outputs": [
    {
     "name": "stdout",
     "output_type": "stream",
     "text": [
      "standard deviation - Weight\n",
      "\n",
      "1 .\n",
      "130.073 - 131.03 = -0.96\n",
      "( 130.073 - 131.03 )^2 =  0.92\n",
      "2 .\n",
      "136.49 - 131.03 = 5.46\n",
      "( 136.49 - 131.03 )^2 =  30.73\n",
      "3 .\n",
      "153.03 - 131.03 = 22.0\n",
      "( 153.03 - 131.03 )^2 =  514.73\n",
      "4 .\n",
      "142.34 - 131.03 = 11.31\n",
      "( 142.34 - 131.03 )^2 =  642.64\n",
      "5 .\n",
      "144.3 - 131.03 = 13.27\n",
      "( 144.3 - 131.03 )^2 =  818.74\n",
      "6 .\n",
      "123.3 - 131.03 = -7.73\n",
      "( 123.3 - 131.03 )^2 =  878.49\n",
      "7 .\n",
      "141.49 - 131.03 = 10.46\n",
      "( 141.49 - 131.03 )^2 =  987.9\n",
      "8 .\n",
      "136.46 - 131.03 = 5.43\n",
      "( 136.46 - 131.03 )^2 =  1017.39\n",
      "9 .\n",
      "112.37 - 131.03 = -18.66\n",
      "( 112.37 - 131.03 )^2 =  1365.58\n",
      "10 .\n",
      "120.67 - 131.03 = -10.36\n",
      "( 120.67 - 131.03 )^2 =  1472.91\n",
      "11 .\n",
      "127.45 - 131.03 = -3.58\n",
      "( 127.45 - 131.03 )^2 =  1485.73\n",
      "12 .\n",
      "114.14 - 131.03 = -16.89\n",
      "( 114.14 - 131.03 )^2 =  1771.0\n",
      "13 .\n",
      "125.61 - 131.03 = -5.42\n",
      "( 125.61 - 131.03 )^2 =  1800.38\n",
      "14 .\n",
      "122.46 - 131.03 = -8.57\n",
      "( 122.46 - 131.03 )^2 =  1873.82\n",
      "15 .\n",
      "116.09 - 131.03 = -14.94\n",
      "( 116.09 - 131.03 )^2 =  2097.02\n",
      "16 .\n",
      "140.0 - 131.03 = 8.97\n",
      "( 140.0 - 131.03 )^2 =  2177.49\n",
      "17 .\n",
      "129.5 - 131.03 = -1.53\n",
      "( 129.5 - 131.03 )^2 =  2179.83\n",
      "18 .\n",
      "142.97 - 131.03 = 11.94\n",
      "( 142.97 - 131.03 )^2 =  2322.39\n",
      "19 .\n",
      "137.9 - 131.03 = 6.87\n",
      "( 137.9 - 131.03 )^2 =  2369.59\n",
      "20 .\n",
      "124.04 - 131.03 = -6.99\n",
      "( 124.04 - 131.03 )^2 =  2418.45\n",
      "\n",
      "standard deviation - Weight\n",
      "\n",
      "\n",
      "Sum:  2418.45\n",
      "sum/20 =  120.92 [ variance ]\n",
      "sqrt =  11.0 [ standard deviation ]\n"
     ]
    }
   ],
   "source": [
    "print(\"standard deviation - Weight\\n\")\n",
    "y = 0\n",
    "index = 1\n",
    "for w in df['Weight (Pounds)']:\n",
    "    y = y + abs(w - weight_mean)**2\n",
    "    print(index,'.')\n",
    "    print(w,'-',weight_mean,'=',round(w - weight_mean,2))\n",
    "    print('(',w,'-',weight_mean,')^2 = ',round(y,2))\n",
    "    index = index+1\n",
    "\n",
    "\n",
    "weight_std = round(sqrt(y/20),2)    \n",
    "print(\"\\nstandard deviation - Weight\\n\")\n",
    "print('\\nSum: ',round(y,2))\n",
    "print('sum/20 = ',round(round(y,2)/20,2),'[','variance',']')\n",
    "print('sqrt = ',weight_std,'[','standard deviation',']')"
   ]
  },
  {
   "cell_type": "markdown",
   "id": "0ccbbae0",
   "metadata": {},
   "source": [
    "## (c) Compute the coefficient of variation (CV) of Height and Weight."
   ]
  },
  {
   "cell_type": "code",
   "execution_count": 12,
   "id": "87b31e93",
   "metadata": {},
   "outputs": [
    {
     "name": "stdout",
     "output_type": "stream",
     "text": [
      "CV for Height =  2.63\n",
      "CV for Height =  8.4\n"
     ]
    }
   ],
   "source": [
    "height_cv = height_std/height_mean\n",
    "print('CV for Height = ',round(height_cv*100,2))\n",
    "\n",
    "weight_cv = weight_std/weight_mean\n",
    "print('CV for Height = ',round(weight_cv*100,2))"
   ]
  },
  {
   "cell_type": "markdown",
   "id": "aa193996",
   "metadata": {},
   "source": [
    "## (d) Compute five number summary and interquantile range (IQR) of Height and Weight, separately. Have you seen any outlier in Height and Weight separately?"
   ]
  },
  {
   "cell_type": "code",
   "execution_count": 13,
   "id": "3ca57452",
   "metadata": {},
   "outputs": [
    {
     "data": {
      "text/html": [
       "<div>\n",
       "<style scoped>\n",
       "    .dataframe tbody tr th:only-of-type {\n",
       "        vertical-align: middle;\n",
       "    }\n",
       "\n",
       "    .dataframe tbody tr th {\n",
       "        vertical-align: top;\n",
       "    }\n",
       "\n",
       "    .dataframe thead th {\n",
       "        text-align: right;\n",
       "    }\n",
       "</style>\n",
       "<table border=\"1\" class=\"dataframe\">\n",
       "  <thead>\n",
       "    <tr style=\"text-align: right;\">\n",
       "      <th></th>\n",
       "      <th>Height (Inches)</th>\n",
       "      <th>Weight (Pounds)</th>\n",
       "    </tr>\n",
       "  </thead>\n",
       "  <tbody>\n",
       "    <tr>\n",
       "      <th>count</th>\n",
       "      <td>20.000000</td>\n",
       "      <td>20.000000</td>\n",
       "    </tr>\n",
       "    <tr>\n",
       "      <th>mean</th>\n",
       "      <td>68.324500</td>\n",
       "      <td>131.034150</td>\n",
       "    </tr>\n",
       "    <tr>\n",
       "      <th>std</th>\n",
       "      <td>1.842548</td>\n",
       "      <td>11.282139</td>\n",
       "    </tr>\n",
       "    <tr>\n",
       "      <th>min</th>\n",
       "      <td>64.000000</td>\n",
       "      <td>112.370000</td>\n",
       "    </tr>\n",
       "    <tr>\n",
       "      <th>25%</th>\n",
       "      <td>67.127500</td>\n",
       "      <td>123.090000</td>\n",
       "    </tr>\n",
       "    <tr>\n",
       "      <th>50%</th>\n",
       "      <td>68.250000</td>\n",
       "      <td>129.786500</td>\n",
       "    </tr>\n",
       "    <tr>\n",
       "      <th>75%</th>\n",
       "      <td>69.500000</td>\n",
       "      <td>140.372500</td>\n",
       "    </tr>\n",
       "    <tr>\n",
       "      <th>max</th>\n",
       "      <td>71.520000</td>\n",
       "      <td>153.030000</td>\n",
       "    </tr>\n",
       "  </tbody>\n",
       "</table>\n",
       "</div>"
      ],
      "text/plain": [
       "       Height (Inches)  Weight (Pounds)\n",
       "count        20.000000        20.000000\n",
       "mean         68.324500       131.034150\n",
       "std           1.842548        11.282139\n",
       "min          64.000000       112.370000\n",
       "25%          67.127500       123.090000\n",
       "50%          68.250000       129.786500\n",
       "75%          69.500000       140.372500\n",
       "max          71.520000       153.030000"
      ]
     },
     "execution_count": 13,
     "metadata": {},
     "output_type": "execute_result"
    }
   ],
   "source": [
    "df.describe()"
   ]
  },
  {
   "cell_type": "markdown",
   "id": "65b059db",
   "metadata": {},
   "source": [
    "## (e) Draw a scatter plot of Height and Weight. Interpret your results."
   ]
  },
  {
   "cell_type": "code",
   "execution_count": 14,
   "id": "59cd919f",
   "metadata": {},
   "outputs": [],
   "source": [
    "import pandas as pd\n",
    "import numpy as np\n",
    "import matplotlib.pyplot as plt\n",
    "import seaborn as sns\n",
    "%matplotlib inline\n",
    "# The %matplotlib inline command tells the IPython environment to draw the plots immediately after the current cell."
   ]
  },
  {
   "cell_type": "code",
   "execution_count": 15,
   "id": "4a4fdac1",
   "metadata": {},
   "outputs": [],
   "source": [
    "# to hide all warnings\n",
    "import warnings\n",
    "warnings.filterwarnings('ignore')"
   ]
  },
  {
   "cell_type": "code",
   "execution_count": 16,
   "id": "1213b0aa",
   "metadata": {},
   "outputs": [],
   "source": [
    "from pathlib import Path\n",
    "IMAGES_PATH = Path() / \"images\"\n",
    "IMAGES_PATH.mkdir(parents=True, exist_ok=True)\n",
    "\n",
    "def save_fig(fig_id, tight_layout=True, fig_extension=\"png\", resolution=300):\n",
    "    path = IMAGES_PATH / f\"{fig_id}.{fig_extension}\"\n",
    "    if tight_layout:\n",
    "        plt.tight_layout()\n",
    "    plt.savefig(path, format=fig_extension, dpi=resolution)"
   ]
  },
  {
   "cell_type": "code",
   "execution_count": 17,
   "id": "0651f9e6",
   "metadata": {},
   "outputs": [
    {
     "data": {
      "image/png": "[encoded data removed]",
      "text/plain": [
       "<Figure size 640x480 with 1 Axes>"
      ]
     },
     "metadata": {},
     "output_type": "display_data"
    }
   ],
   "source": [
    "# calculate the slope and y-intercept of the line of best fit\n",
    "m, b = np.polyfit(df['Height (Inches)'], df['Weight (Pounds)'], 1)\n",
    "plt.scatter(df['Height (Inches)'], df['Weight (Pounds)'])\n",
    "\n",
    "plt.plot(df['Height (Inches)'], m*df['Height (Inches)'] + b, color='red')\n",
    "\n",
    "plt.xlabel(\"Height (Inches)\")\n",
    "plt.ylabel(\"Weight (Pounds)\")\n",
    "plt.grid(True)\n",
    "\n",
    "save_fig('height-weight-graph')\n",
    "plt.show()"
   ]
  },
  {
   "cell_type": "markdown",
   "id": "f1d46d10",
   "metadata": {},
   "source": [
    "## (f) Find the value of covariance between Height and Weight. Interpret the results."
   ]
  },
  {
   "cell_type": "code",
   "execution_count": 21,
   "id": "0862945d",
   "metadata": {},
   "outputs": [
    {
     "data": {
      "text/html": [
       "<div>\n",
       "<style scoped>\n",
       "    .dataframe tbody tr th:only-of-type {\n",
       "        vertical-align: middle;\n",
       "    }\n",
       "\n",
       "    .dataframe tbody tr th {\n",
       "        vertical-align: top;\n",
       "    }\n",
       "\n",
       "    .dataframe thead th {\n",
       "        text-align: right;\n",
       "    }\n",
       "</style>\n",
       "<table border=\"1\" class=\"dataframe\">\n",
       "  <thead>\n",
       "    <tr style=\"text-align: right;\">\n",
       "      <th></th>\n",
       "      <th>Height (Inches)</th>\n",
       "      <th>Weight (Pounds)</th>\n",
       "      <th>x-x_mean</th>\n",
       "      <th>y-y_mean</th>\n",
       "      <th>(x-x_mean)(y-y_mean)</th>\n",
       "    </tr>\n",
       "  </thead>\n",
       "  <tbody>\n",
       "    <tr>\n",
       "      <th>0</th>\n",
       "      <td>64.00</td>\n",
       "      <td>130.073</td>\n",
       "      <td>-4.3245</td>\n",
       "      <td>-0.96115</td>\n",
       "      <td>4.156493</td>\n",
       "    </tr>\n",
       "    <tr>\n",
       "      <th>1</th>\n",
       "      <td>71.52</td>\n",
       "      <td>136.490</td>\n",
       "      <td>3.1955</td>\n",
       "      <td>5.45585</td>\n",
       "      <td>17.434169</td>\n",
       "    </tr>\n",
       "    <tr>\n",
       "      <th>2</th>\n",
       "      <td>69.40</td>\n",
       "      <td>153.030</td>\n",
       "      <td>1.0755</td>\n",
       "      <td>21.99585</td>\n",
       "      <td>23.656537</td>\n",
       "    </tr>\n",
       "    <tr>\n",
       "      <th>3</th>\n",
       "      <td>68.22</td>\n",
       "      <td>142.340</td>\n",
       "      <td>-0.1045</td>\n",
       "      <td>11.30585</td>\n",
       "      <td>-1.181461</td>\n",
       "    </tr>\n",
       "    <tr>\n",
       "      <th>4</th>\n",
       "      <td>67.79</td>\n",
       "      <td>144.300</td>\n",
       "      <td>-0.5345</td>\n",
       "      <td>13.26585</td>\n",
       "      <td>-7.090597</td>\n",
       "    </tr>\n",
       "    <tr>\n",
       "      <th>5</th>\n",
       "      <td>68.70</td>\n",
       "      <td>123.300</td>\n",
       "      <td>0.3755</td>\n",
       "      <td>-7.73415</td>\n",
       "      <td>-2.904173</td>\n",
       "    </tr>\n",
       "    <tr>\n",
       "      <th>6</th>\n",
       "      <td>69.80</td>\n",
       "      <td>141.490</td>\n",
       "      <td>1.4755</td>\n",
       "      <td>10.45585</td>\n",
       "      <td>15.427607</td>\n",
       "    </tr>\n",
       "    <tr>\n",
       "      <th>7</th>\n",
       "      <td>70.01</td>\n",
       "      <td>136.460</td>\n",
       "      <td>1.6855</td>\n",
       "      <td>5.42585</td>\n",
       "      <td>9.145270</td>\n",
       "    </tr>\n",
       "    <tr>\n",
       "      <th>8</th>\n",
       "      <td>67.90</td>\n",
       "      <td>112.370</td>\n",
       "      <td>-0.4245</td>\n",
       "      <td>-18.66415</td>\n",
       "      <td>7.922932</td>\n",
       "    </tr>\n",
       "    <tr>\n",
       "      <th>9</th>\n",
       "      <td>66.78</td>\n",
       "      <td>120.670</td>\n",
       "      <td>-1.5445</td>\n",
       "      <td>-10.36415</td>\n",
       "      <td>16.007430</td>\n",
       "    </tr>\n",
       "    <tr>\n",
       "      <th>10</th>\n",
       "      <td>66.49</td>\n",
       "      <td>127.450</td>\n",
       "      <td>-1.8345</td>\n",
       "      <td>-3.58415</td>\n",
       "      <td>6.575123</td>\n",
       "    </tr>\n",
       "    <tr>\n",
       "      <th>11</th>\n",
       "      <td>67.62</td>\n",
       "      <td>114.140</td>\n",
       "      <td>-0.7045</td>\n",
       "      <td>-16.89415</td>\n",
       "      <td>11.901929</td>\n",
       "    </tr>\n",
       "    <tr>\n",
       "      <th>12</th>\n",
       "      <td>68.30</td>\n",
       "      <td>125.610</td>\n",
       "      <td>-0.0245</td>\n",
       "      <td>-5.42415</td>\n",
       "      <td>0.132892</td>\n",
       "    </tr>\n",
       "    <tr>\n",
       "      <th>13</th>\n",
       "      <td>67.12</td>\n",
       "      <td>122.460</td>\n",
       "      <td>-1.2045</td>\n",
       "      <td>-8.57415</td>\n",
       "      <td>10.327564</td>\n",
       "    </tr>\n",
       "    <tr>\n",
       "      <th>14</th>\n",
       "      <td>68.28</td>\n",
       "      <td>116.090</td>\n",
       "      <td>-0.0445</td>\n",
       "      <td>-14.94415</td>\n",
       "      <td>0.665015</td>\n",
       "    </tr>\n",
       "    <tr>\n",
       "      <th>15</th>\n",
       "      <td>71.09</td>\n",
       "      <td>140.000</td>\n",
       "      <td>2.7655</td>\n",
       "      <td>8.96585</td>\n",
       "      <td>24.795058</td>\n",
       "    </tr>\n",
       "    <tr>\n",
       "      <th>16</th>\n",
       "      <td>66.46</td>\n",
       "      <td>129.500</td>\n",
       "      <td>-1.8645</td>\n",
       "      <td>-1.53415</td>\n",
       "      <td>2.860423</td>\n",
       "    </tr>\n",
       "    <tr>\n",
       "      <th>17</th>\n",
       "      <td>68.65</td>\n",
       "      <td>142.970</td>\n",
       "      <td>0.3255</td>\n",
       "      <td>11.93585</td>\n",
       "      <td>3.885119</td>\n",
       "    </tr>\n",
       "    <tr>\n",
       "      <th>18</th>\n",
       "      <td>71.23</td>\n",
       "      <td>137.900</td>\n",
       "      <td>2.9055</td>\n",
       "      <td>6.86585</td>\n",
       "      <td>19.948727</td>\n",
       "    </tr>\n",
       "    <tr>\n",
       "      <th>19</th>\n",
       "      <td>67.13</td>\n",
       "      <td>124.040</td>\n",
       "      <td>-1.1945</td>\n",
       "      <td>-6.99415</td>\n",
       "      <td>8.354512</td>\n",
       "    </tr>\n",
       "  </tbody>\n",
       "</table>\n",
       "</div>"
      ],
      "text/plain": [
       "    Height (Inches)  Weight (Pounds)  x-x_mean  y-y_mean  (x-x_mean)(y-y_mean)\n",
       "0             64.00          130.073   -4.3245  -0.96115              4.156493\n",
       "1             71.52          136.490    3.1955   5.45585             17.434169\n",
       "2             69.40          153.030    1.0755  21.99585             23.656537\n",
       "3             68.22          142.340   -0.1045  11.30585             -1.181461\n",
       "4             67.79          144.300   -0.5345  13.26585             -7.090597\n",
       "5             68.70          123.300    0.3755  -7.73415             -2.904173\n",
       "6             69.80          141.490    1.4755  10.45585             15.427607\n",
       "7             70.01          136.460    1.6855   5.42585              9.145270\n",
       "8             67.90          112.370   -0.4245 -18.66415              7.922932\n",
       "9             66.78          120.670   -1.5445 -10.36415             16.007430\n",
       "10            66.49          127.450   -1.8345  -3.58415              6.575123\n",
       "11            67.62          114.140   -0.7045 -16.89415             11.901929\n",
       "12            68.30          125.610   -0.0245  -5.42415              0.132892\n",
       "13            67.12          122.460   -1.2045  -8.57415             10.327564\n",
       "14            68.28          116.090   -0.0445 -14.94415              0.665015\n",
       "15            71.09          140.000    2.7655   8.96585             24.795058\n",
       "16            66.46          129.500   -1.8645  -1.53415              2.860423\n",
       "17            68.65          142.970    0.3255  11.93585              3.885119\n",
       "18            71.23          137.900    2.9055   6.86585             19.948727\n",
       "19            67.13          124.040   -1.1945  -6.99415              8.354512"
      ]
     },
     "execution_count": 21,
     "metadata": {},
     "output_type": "execute_result"
    }
   ],
   "source": [
    "x = df['Height (Inches)']\n",
    "y = df['Weight (Pounds)']\n",
    "\n",
    "df_cov = df\n",
    "df_cov['x-x_mean'] = x - x.mean()\n",
    "df_cov['y-y_mean'] = y - y.mean()\n",
    "df_cov['(x-x_mean)(y-y_mean)'] = (x - x.mean())*(y - y.mean())\n",
    "df_cov"
   ]
  },
  {
   "cell_type": "code",
   "execution_count": 25,
   "id": "453b397e",
   "metadata": {},
   "outputs": [
    {
     "name": "stdout",
     "output_type": "stream",
     "text": [
      "sum of (x-x_mean)(y-y_mean) =  172.02\n",
      "n-1 = 20-1 = 19\n",
      "covariance =  9.05\n"
     ]
    }
   ],
   "source": [
    "sum_temp = sum(df_cov['(x-x_mean)(y-y_mean)'])\n",
    "print('sum of (x-x_mean)(y-y_mean) = ',round(sum_temp,2))\n",
    "print('n-1 = 20-1 = 19')\n",
    "print('covariance = ',round((sum_temp/19),2))"
   ]
  },
  {
   "cell_type": "markdown",
   "id": "fee88ae6",
   "metadata": {},
   "source": [
    "## (g) Compute Pearson’s correlation coefficient and make a comment on this."
   ]
  },
  {
   "cell_type": "code",
   "execution_count": 27,
   "id": "5c7a6bd6",
   "metadata": {},
   "outputs": [
    {
     "name": "stdout",
     "output_type": "stream",
     "text": [
      "Pearson_correlation =  0.44\n"
     ]
    }
   ],
   "source": [
    "def Pearson_correlation(X,Y):\n",
    "    if len(X)==len(Y):\n",
    "        Sum_xy = sum((X-X.mean())*(Y-Y.mean()))\n",
    "        Sum_x_squared = sum((X-X.mean())**2)\n",
    "        Sum_y_squared = sum((Y-Y.mean())**2)      \n",
    "        corr = Sum_xy / np.sqrt(Sum_x_squared * Sum_y_squared)\n",
    "    return corr\n",
    "             \n",
    "print('Pearson_correlation = ',round(Pearson_correlation(x,y),2)) "
   ]
  },
  {
   "cell_type": "markdown",
   "id": "1e1e2910",
   "metadata": {},
   "source": [
    "## (h) Use these data to develop an estimated regression equation that could be used to predict the Weight for a given Height. Interpret the value of regression intercept and slop coefficients."
   ]
  },
  {
   "cell_type": "code",
   "execution_count": 34,
   "id": "19433f1c",
   "metadata": {},
   "outputs": [
    {
     "name": "stdout",
     "output_type": "stream",
     "text": [
      "m =  2.6667914095248197\n",
      "c =  -51.17303966007859\n"
     ]
    }
   ],
   "source": [
    "# y = mx + c\n",
    "# y = weight (predicted)\n",
    "# m = slope\n",
    "# x = height (input)\n",
    "# c = y intercept\n",
    "\n",
    "# we are building a regression equation that could be used to predict the weight (y) for given height (x).\n",
    "# Now we need to calculate the slope (m) and y-intercept (c) for the equation\n",
    "\n",
    "m = ((x.mean() * y.mean()) - ((x*y).mean())) / ((x.mean())**2 - (x**2).mean())\n",
    "c = y.mean() - (m * x.mean())\n",
    "\n",
    "print('m = ',m)\n",
    "print('c = ',c)"
   ]
  },
  {
   "cell_type": "markdown",
   "id": "9a7e77d5",
   "metadata": {},
   "source": [
    "## (i) Compute the coefficient of determination. What percentage of the variation in Weight can  be explained by Height?"
   ]
  },
  {
   "cell_type": "code",
   "execution_count": null,
   "id": "768cebc2",
   "metadata": {},
   "outputs": [],
   "source": [
    "# could not solve yet"
   ]
  },
  {
   "cell_type": "markdown",
   "id": "1639f061",
   "metadata": {},
   "source": [
    "## (j) A doctor want to predict Weight by using Height. Predict the Weight for height 69 inches. "
   ]
  },
  {
   "cell_type": "code",
   "execution_count": 35,
   "id": "07a3c1cd",
   "metadata": {},
   "outputs": [
    {
     "name": "stdout",
     "output_type": "stream",
     "text": [
      "predicted weight, y =  132.84\n"
     ]
    }
   ],
   "source": [
    "# for input x = 69 we are predicting weight y using our regression equation\n",
    "\n",
    "x = 69\n",
    "y = m * x + c\n",
    "print('predicted weight, y = ',round(y,2))"
   ]
  }
 ],
 "metadata": {
  "kernelspec": {
   "display_name": "Python 3 (ipykernel)",
   "language": "python",
   "name": "python3"
  },
  "language_info": {
   "codemirror_mode": {
    "name": "ipython",
    "version": 3
   },
   "file_extension": ".py",
   "mimetype": "text/x-python",
   "name": "python",
   "nbconvert_exporter": "python",
   "pygments_lexer": "ipython3",
   "version": "3.9.13"
  }
 },
 "nbformat": 4,
 "nbformat_minor": 5
}
